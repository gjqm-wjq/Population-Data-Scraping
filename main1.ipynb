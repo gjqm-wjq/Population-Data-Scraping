{
 "cells": [
  {
   "cell_type": "code",
   "execution_count": 1,
   "metadata": {},
   "outputs": [],
   "source": [
    "import requests\n",
    "from bs4 import BeautifulSoup\n",
    "import pandas as pd"
   ]
  },
  {
   "cell_type": "code",
   "execution_count": 2,
   "metadata": {},
   "outputs": [],
   "source": [
    "url = \"https://en.wikipedia.org/wiki/World_population_milestones\"\n"
   ]
  },
  {
   "cell_type": "code",
   "execution_count": 3,
   "metadata": {},
   "outputs": [],
   "source": [
    "# Fetch the HTML content of the page\n",
    "page = requests.get(url)\n",
    "\n",
    "# Parse the HTML content\n",
    "soup = BeautifulSoup(page.content, 'html.parser')"
   ]
  },
  {
   "cell_type": "code",
   "execution_count": 4,
   "metadata": {},
   "outputs": [],
   "source": [
    "# Find the table containing the specified columns\n",
    "tables = soup.find_all('table', class_='wikitable')\n",
    "target_table = None\n",
    "for table in tables:\n",
    "    header_cells = table.find_all('th')\n",
    "    header_texts = [cell.get_text(strip=True) for cell in header_cells]\n",
    "    if \"Country/nationality\" in header_texts and \"Population\" in header_texts and \"Born (date)\" in header_texts and \"Name\" in header_texts and \"Notes\" in header_texts:\n",
    "        target_table = table\n",
    "        break"
   ]
  },
  {
   "cell_type": "code",
   "execution_count": 5,
   "metadata": {},
   "outputs": [],
   "source": [
    "# Extract data from the table\n",
    "data = []\n",
    "if target_table:\n",
    "    for row in target_table.find_all('tr'):\n",
    "        row_data = [cell.get_text(strip=True) for cell in row.find_all(['th', 'td'])]\n",
    "        data.append(row_data)\n",
    "\n",
    "    # Create a DataFrame from the extracted data\n",
    "    df = pd.DataFrame(data)\n",
    "\n",
    "    # Remove rows with all empty cells\n",
    "    df = df.dropna(how='all')\n",
    "\n",
    "    # Export the DataFrame to an Excel file\n",
    "    df.to_excel('population_data.xlsx', index=False, header=False)\n",
    "else:\n",
    "    print(\"Table with specified columns not found on the page.\")"
   ]
  }
 ],
 "metadata": {
  "kernelspec": {
   "display_name": "myenv",
   "language": "python",
   "name": "python3"
  },
  "language_info": {
   "codemirror_mode": {
    "name": "ipython",
    "version": 3
   },
   "file_extension": ".py",
   "mimetype": "text/x-python",
   "name": "python",
   "nbconvert_exporter": "python",
   "pygments_lexer": "ipython3",
   "version": "3.10.13"
  }
 },
 "nbformat": 4,
 "nbformat_minor": 2
}
