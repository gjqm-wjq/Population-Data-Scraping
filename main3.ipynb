{
 "cells": [
  {
   "cell_type": "code",
   "execution_count": 1,
   "metadata": {},
   "outputs": [],
   "source": [
    "import requests\n",
    "from bs4 import BeautifulSoup\n",
    "import pandas as pd"
   ]
  },
  {
   "cell_type": "code",
   "execution_count": 2,
   "metadata": {},
   "outputs": [],
   "source": [
    "url = \"https://en.wikipedia.org/wiki/World_population_milestones\"\n",
    "\n",
    "# Fetch the HTML content of the page\n",
    "page = requests.get(url)\n",
    "\n",
    "# Parse the HTML content\n",
    "soup = BeautifulSoup(page.content, 'html.parser')"
   ]
  },
  {
   "cell_type": "code",
   "execution_count": 3,
   "metadata": {},
   "outputs": [],
   "source": [
    "# Find the table containing the USCB estimates\n",
    "tables = soup.find_all('table', class_='wikitable')\n",
    "uscb_table = None\n",
    "for table in tables:\n",
    "    if 'USCB' in table.text:\n",
    "        uscb_table = table\n",
    "        break"
   ]
  },
  {
   "cell_type": "code",
   "execution_count": 4,
   "metadata": {},
   "outputs": [],
   "source": [
    "# Extract data from the table\n",
    "data = []\n",
    "if uscb_table:\n",
    "    for row in uscb_table.find_all('tr'):\n",
    "        row_data = [cell.get_text(strip=True) for cell in row.find_all(['th', 'td'])]\n",
    "        data.append(row_data)\n",
    "\n",
    "         # Create a DataFrame from the extracted data\n",
    "    df = pd.DataFrame(data)\n",
    "\n",
    "     # Remove rows with all empty cells\n",
    "    df = df.dropna(how='all')\n",
    "\n",
    "    # Export the DataFrame to an Excel file\n",
    "    df.to_excel('World population milestones in billions (USCB estimates).xlsx', index=False, header=False)\n",
    "else:\n",
    "    print(\"USCB estimates table not found on the page.\")"
   ]
  }
 ],
 "metadata": {
  "kernelspec": {
   "display_name": "myenv",
   "language": "python",
   "name": "python3"
  },
  "language_info": {
   "codemirror_mode": {
    "name": "ipython",
    "version": 3
   },
   "file_extension": ".py",
   "mimetype": "text/x-python",
   "name": "python",
   "nbconvert_exporter": "python",
   "pygments_lexer": "ipython3",
   "version": "3.10.13"
  }
 },
 "nbformat": 4,
 "nbformat_minor": 2
}
